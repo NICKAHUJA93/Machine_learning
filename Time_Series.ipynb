{
 "cells": [
  {
   "cell_type": "code",
   "execution_count": 8,
   "metadata": {},
   "outputs": [
    {
     "name": "stdout",
     "output_type": "stream",
     "text": [
      "       Month  milkproduction\n",
      "0    1962-01             589\n",
      "1    1962-02             561\n",
      "2    1962-03             640\n",
      "3    1962-04             656\n",
      "4    1962-05             727\n",
      "5    1962-06             697\n",
      "6    1962-07             640\n",
      "7    1962-08             599\n",
      "8    1962-09             568\n",
      "9    1962-10             577\n",
      "10   1962-11             553\n",
      "11   1962-12             582\n",
      "12   1963-01             600\n",
      "13   1963-02             566\n",
      "14   1963-03             653\n",
      "15   1963-04             673\n",
      "16   1963-05             742\n",
      "17   1963-06             716\n",
      "18   1963-07             660\n",
      "19   1963-08             617\n",
      "20   1963-09             583\n",
      "21   1963-10             587\n",
      "22   1963-11             565\n",
      "23   1963-12             598\n",
      "24   1964-01             628\n",
      "25   1964-02             618\n",
      "26   1964-03             688\n",
      "27   1964-04             705\n",
      "28   1964-05             770\n",
      "29   1964-06             736\n",
      "..       ...             ...\n",
      "138  1973-07             881\n",
      "139  1973-08             837\n",
      "140  1973-09             784\n",
      "141  1973-10             791\n",
      "142  1973-11             760\n",
      "143  1973-12             802\n",
      "144  1974-01             828\n",
      "145  1974-02             778\n",
      "146  1974-03             889\n",
      "147  1974-04             902\n",
      "148  1974-05             969\n",
      "149  1974-06             947\n",
      "150  1974-07             908\n",
      "151  1974-08             867\n",
      "152  1974-09             815\n",
      "153  1974-10             812\n",
      "154  1974-11             773\n",
      "155  1974-12             813\n",
      "156  1975-01             834\n",
      "157  1975-02             782\n",
      "158  1975-03             892\n",
      "159  1975-04             903\n",
      "160  1975-05             966\n",
      "161  1975-06             937\n",
      "162  1975-07             896\n",
      "163  1975-08             858\n",
      "164  1975-09             817\n",
      "165  1975-10             827\n",
      "166  1975-11             797\n",
      "167  1975-12             843\n",
      "\n",
      "[168 rows x 2 columns]\n",
      "           mon   mp\n",
      "0   1962-01-01  589\n",
      "1   1962-02-01  561\n",
      "2   1962-03-01  640\n",
      "3   1962-04-01  656\n",
      "4   1962-05-01  727\n",
      "5   1962-06-01  697\n",
      "6   1962-07-01  640\n",
      "7   1962-08-01  599\n",
      "8   1962-09-01  568\n",
      "9   1962-10-01  577\n",
      "10  1962-11-01  553\n",
      "11  1962-12-01  582\n",
      "12  1963-01-01  600\n",
      "13  1963-02-01  566\n",
      "14  1963-03-01  653\n",
      "15  1963-04-01  673\n",
      "16  1963-05-01  742\n",
      "17  1963-06-01  716\n",
      "18  1963-07-01  660\n",
      "19  1963-08-01  617\n",
      "20  1963-09-01  583\n",
      "21  1963-10-01  587\n",
      "22  1963-11-01  565\n",
      "23  1963-12-01  598\n",
      "24  1964-01-01  628\n",
      "25  1964-02-01  618\n",
      "26  1964-03-01  688\n",
      "27  1964-04-01  705\n",
      "28  1964-05-01  770\n",
      "29  1964-06-01  736\n",
      "..         ...  ...\n",
      "138 1973-07-01  881\n",
      "139 1973-08-01  837\n",
      "140 1973-09-01  784\n",
      "141 1973-10-01  791\n",
      "142 1973-11-01  760\n",
      "143 1973-12-01  802\n",
      "144 1974-01-01  828\n",
      "145 1974-02-01  778\n",
      "146 1974-03-01  889\n",
      "147 1974-04-01  902\n",
      "148 1974-05-01  969\n",
      "149 1974-06-01  947\n",
      "150 1974-07-01  908\n",
      "151 1974-08-01  867\n",
      "152 1974-09-01  815\n",
      "153 1974-10-01  812\n",
      "154 1974-11-01  773\n",
      "155 1974-12-01  813\n",
      "156 1975-01-01  834\n",
      "157 1975-02-01  782\n",
      "158 1975-03-01  892\n",
      "159 1975-04-01  903\n",
      "160 1975-05-01  966\n",
      "161 1975-06-01  937\n",
      "162 1975-07-01  896\n",
      "163 1975-08-01  858\n",
      "164 1975-09-01  817\n",
      "165 1975-10-01  827\n",
      "166 1975-11-01  797\n",
      "167 1975-12-01  843\n",
      "\n",
      "[168 rows x 2 columns]\n",
      "             mp\n",
      "mon            \n",
      "1962-01-01  589\n",
      "1962-02-01  561\n",
      "1962-03-01  640\n",
      "1962-04-01  656\n",
      "1962-05-01  727\n",
      "1962-06-01  697\n",
      "1962-07-01  640\n",
      "1962-08-01  599\n",
      "1962-09-01  568\n",
      "1962-10-01  577\n",
      "1962-11-01  553\n",
      "1962-12-01  582\n",
      "1963-01-01  600\n",
      "1963-02-01  566\n",
      "1963-03-01  653\n",
      "1963-04-01  673\n",
      "1963-05-01  742\n",
      "1963-06-01  716\n",
      "1963-07-01  660\n",
      "1963-08-01  617\n",
      "1963-09-01  583\n",
      "1963-10-01  587\n",
      "1963-11-01  565\n",
      "1963-12-01  598\n",
      "1964-01-01  628\n",
      "1964-02-01  618\n",
      "1964-03-01  688\n",
      "1964-04-01  705\n",
      "1964-05-01  770\n",
      "1964-06-01  736\n",
      "...         ...\n",
      "1973-07-01  881\n",
      "1973-08-01  837\n",
      "1973-09-01  784\n",
      "1973-10-01  791\n",
      "1973-11-01  760\n",
      "1973-12-01  802\n",
      "1974-01-01  828\n",
      "1974-02-01  778\n",
      "1974-03-01  889\n",
      "1974-04-01  902\n",
      "1974-05-01  969\n",
      "1974-06-01  947\n",
      "1974-07-01  908\n",
      "1974-08-01  867\n",
      "1974-09-01  815\n",
      "1974-10-01  812\n",
      "1974-11-01  773\n",
      "1974-12-01  813\n",
      "1975-01-01  834\n",
      "1975-02-01  782\n",
      "1975-03-01  892\n",
      "1975-04-01  903\n",
      "1975-05-01  966\n",
      "1975-06-01  937\n",
      "1975-07-01  896\n",
      "1975-08-01  858\n",
      "1975-09-01  817\n",
      "1975-10-01  827\n",
      "1975-11-01  797\n",
      "1975-12-01  843\n",
      "\n",
      "[168 rows x 1 columns]\n",
      "mon\n",
      "1962-01-01    589\n",
      "1962-02-01    561\n",
      "1962-03-01    640\n",
      "1962-04-01    656\n",
      "1962-05-01    727\n",
      "1962-06-01    697\n",
      "1962-07-01    640\n",
      "1962-08-01    599\n",
      "1962-09-01    568\n",
      "1962-10-01    577\n",
      "1962-11-01    553\n",
      "1962-12-01    582\n",
      "1963-01-01    600\n",
      "1963-02-01    566\n",
      "1963-03-01    653\n",
      "1963-04-01    673\n",
      "1963-05-01    742\n",
      "1963-06-01    716\n",
      "1963-07-01    660\n",
      "1963-08-01    617\n",
      "1963-09-01    583\n",
      "1963-10-01    587\n",
      "1963-11-01    565\n",
      "1963-12-01    598\n",
      "1964-01-01    628\n",
      "1964-02-01    618\n",
      "1964-03-01    688\n",
      "1964-04-01    705\n",
      "1964-05-01    770\n",
      "1964-06-01    736\n",
      "             ... \n",
      "1973-07-01    881\n",
      "1973-08-01    837\n",
      "1973-09-01    784\n",
      "1973-10-01    791\n",
      "1973-11-01    760\n",
      "1973-12-01    802\n",
      "1974-01-01    828\n",
      "1974-02-01    778\n",
      "1974-03-01    889\n",
      "1974-04-01    902\n",
      "1974-05-01    969\n",
      "1974-06-01    947\n",
      "1974-07-01    908\n",
      "1974-08-01    867\n",
      "1974-09-01    815\n",
      "1974-10-01    812\n",
      "1974-11-01    773\n",
      "1974-12-01    813\n",
      "1975-01-01    834\n",
      "1975-02-01    782\n",
      "1975-03-01    892\n",
      "1975-04-01    903\n",
      "1975-05-01    966\n",
      "1975-06-01    937\n",
      "1975-07-01    896\n",
      "1975-08-01    858\n",
      "1975-09-01    817\n",
      "1975-10-01    827\n",
      "1975-11-01    797\n",
      "1975-12-01    843\n",
      "Name: mp, Length: 168, dtype: int64\n"
     ]
    },
    {
     "name": "stderr",
     "output_type": "stream",
     "text": [
      "C:\\Users\\Dell\\Anaconda4\\lib\\site-packages\\statsmodels\\tsa\\base\\tsa_model.py:165: ValueWarning: No frequency information was provided, so inferred frequency MS will be used.\n",
      "  % freq, ValueWarning)\n"
     ]
    },
    {
     "name": "stdout",
     "output_type": "stream",
     "text": [
      "1976-01-01    865.174111\n",
      "Freq: MS, dtype: float64\n"
     ]
    },
    {
     "name": "stderr",
     "output_type": "stream",
     "text": [
      "C:\\Users\\Dell\\Anaconda4\\lib\\site-packages\\statsmodels\\tsa\\base\\tsa_model.py:165: ValueWarning: No frequency information was provided, so inferred frequency MS will be used.\n",
      "  % freq, ValueWarning)\n"
     ]
    },
    {
     "name": "stdout",
     "output_type": "stream",
     "text": [
      "1976-02-01    818.038343\n",
      "Freq: MS, dtype: float64\n"
     ]
    },
    {
     "name": "stderr",
     "output_type": "stream",
     "text": [
      "C:\\Users\\Dell\\Anaconda4\\lib\\site-packages\\statsmodels\\tsa\\base\\tsa_model.py:165: ValueWarning: No frequency information was provided, so inferred frequency MS will be used.\n",
      "  % freq, ValueWarning)\n"
     ]
    },
    {
     "name": "stdout",
     "output_type": "stream",
     "text": [
      "1976-03-01    925.006299\n",
      "Freq: MS, dtype: float64\n"
     ]
    },
    {
     "name": "stderr",
     "output_type": "stream",
     "text": [
      "C:\\Users\\Dell\\Anaconda4\\lib\\site-packages\\statsmodels\\tsa\\base\\tsa_model.py:165: ValueWarning: No frequency information was provided, so inferred frequency MS will be used.\n",
      "  % freq, ValueWarning)\n"
     ]
    },
    {
     "name": "stdout",
     "output_type": "stream",
     "text": [
      "1976-04-01    938.051543\n",
      "Freq: MS, dtype: float64\n"
     ]
    },
    {
     "name": "stderr",
     "output_type": "stream",
     "text": [
      "C:\\Users\\Dell\\Anaconda4\\lib\\site-packages\\statsmodels\\tsa\\base\\tsa_model.py:165: ValueWarning: No frequency information was provided, so inferred frequency MS will be used.\n",
      "  % freq, ValueWarning)\n"
     ]
    },
    {
     "name": "stdout",
     "output_type": "stream",
     "text": [
      "1976-05-01    1001.298679\n",
      "Freq: MS, dtype: float64\n"
     ]
    },
    {
     "name": "stderr",
     "output_type": "stream",
     "text": [
      "C:\\Users\\Dell\\Anaconda4\\lib\\site-packages\\statsmodels\\tsa\\base\\tsa_model.py:165: ValueWarning: No frequency information was provided, so inferred frequency MS will be used.\n",
      "  % freq, ValueWarning)\n"
     ]
    },
    {
     "name": "stdout",
     "output_type": "stream",
     "text": [
      "1976-06-01    974.037408\n",
      "Freq: MS, dtype: float64\n"
     ]
    },
    {
     "name": "stderr",
     "output_type": "stream",
     "text": [
      "C:\\Users\\Dell\\Anaconda4\\lib\\site-packages\\statsmodels\\tsa\\base\\tsa_model.py:165: ValueWarning: No frequency information was provided, so inferred frequency MS will be used.\n",
      "  % freq, ValueWarning)\n"
     ]
    },
    {
     "name": "stdout",
     "output_type": "stream",
     "text": [
      "1976-07-01    932.836047\n",
      "Freq: MS, dtype: float64\n"
     ]
    },
    {
     "name": "stderr",
     "output_type": "stream",
     "text": [
      "C:\\Users\\Dell\\Anaconda4\\lib\\site-packages\\statsmodels\\tsa\\base\\tsa_model.py:165: ValueWarning: No frequency information was provided, so inferred frequency MS will be used.\n",
      "  % freq, ValueWarning)\n"
     ]
    },
    {
     "name": "stdout",
     "output_type": "stream",
     "text": [
      "1976-08-01    893.09954\n",
      "Freq: MS, dtype: float64\n"
     ]
    },
    {
     "name": "stderr",
     "output_type": "stream",
     "text": [
      "C:\\Users\\Dell\\Anaconda4\\lib\\site-packages\\statsmodels\\tsa\\base\\tsa_model.py:165: ValueWarning: No frequency information was provided, so inferred frequency MS will be used.\n",
      "  % freq, ValueWarning)\n"
     ]
    },
    {
     "name": "stdout",
     "output_type": "stream",
     "text": [
      "1976-09-01    846.655243\n",
      "Freq: MS, dtype: float64\n"
     ]
    },
    {
     "name": "stderr",
     "output_type": "stream",
     "text": [
      "C:\\Users\\Dell\\Anaconda4\\lib\\site-packages\\statsmodels\\tsa\\base\\tsa_model.py:165: ValueWarning: No frequency information was provided, so inferred frequency MS will be used.\n",
      "  % freq, ValueWarning)\n"
     ]
    },
    {
     "name": "stdout",
     "output_type": "stream",
     "text": [
      "1976-10-01    851.408085\n",
      "Freq: MS, dtype: float64\n"
     ]
    },
    {
     "name": "stderr",
     "output_type": "stream",
     "text": [
      "C:\\Users\\Dell\\Anaconda4\\lib\\site-packages\\statsmodels\\tsa\\base\\tsa_model.py:165: ValueWarning: No frequency information was provided, so inferred frequency MS will be used.\n",
      "  % freq, ValueWarning)\n"
     ]
    },
    {
     "name": "stdout",
     "output_type": "stream",
     "text": [
      "1976-11-01    817.01306\n",
      "Freq: MS, dtype: float64\n"
     ]
    },
    {
     "name": "stderr",
     "output_type": "stream",
     "text": [
      "C:\\Users\\Dell\\Anaconda4\\lib\\site-packages\\statsmodels\\tsa\\base\\tsa_model.py:165: ValueWarning: No frequency information was provided, so inferred frequency MS will be used.\n",
      "  % freq, ValueWarning)\n"
     ]
    },
    {
     "name": "stdout",
     "output_type": "stream",
     "text": [
      "1976-12-01    859.137781\n",
      "Freq: MS, dtype: float64\n"
     ]
    },
    {
     "data": {
      "image/png": "[encoded data removed]",
      "text/plain": [
       "<Figure size 432x288 with 4 Axes>"
      ]
     },
     "metadata": {
      "needs_background": "light"
     },
     "output_type": "display_data"
    }
   ],
   "source": [
    "from statsmodels.tsa import seasonal,arima_model\n",
    "import statsmodels.api as st\n",
    "import pandas as pd\n",
    "import matplotlib.pyplot as plt\n",
    "data = pd.read_csv('E:\\Time_series\\data\\monthly-milk-production-pounds-p.csv')\n",
    "#data cleaning \n",
    "data.dropna(axis=0,inplace = True)\n",
    "print(data)\n",
    "# column name change\n",
    "data.columns = ['mon','mp']\n",
    "#date time conversion\n",
    "data['mon']=pd.to_datetime(data['mon'])\n",
    "print(data)\n",
    "#ste datatime as index\n",
    "data.set_index('mon',inplace=True)\n",
    "print(data)\n",
    "tm = data['mp']\n",
    "print(tm)\n",
    "tm1 = tm.copy()\n",
    "vd = seasonal.seasonal_decompose(tm1)\n",
    "vd.plot()\n",
    "\n",
    "num_sample_to_forcast = 12\n",
    "for i in range(0,num_sample_to_forcast):\n",
    "    #seasonal model creation for arima\n",
    "    model1 = st.tsa.statespace.SARIMAX(tm,order=(1,1,1),seasonal_order=(1,1,1,12))\n",
    "    res1=model1.fit()\n",
    "    #forcasting only one value\n",
    "    new_op=res1.forecast()\n",
    "    print(new_op)\n",
    "    tm = pd.concat([tm,new_op]) #train data retain\n",
    "z=res1.predict(start=0,end=500)\n",
    "z.plot();\n",
    "tm1.plot();\n",
    "plt.show()\n"
   ]
  },
  {
   "cell_type": "code",
   "execution_count": null,
   "metadata": {},
   "outputs": [],
   "source": []
  }
 ],
 "metadata": {
  "kernelspec": {
   "display_name": "Python 3",
   "language": "python",
   "name": "python3"
  },
  "language_info": {
   "codemirror_mode": {
    "name": "ipython",
    "version": 3
   },
   "file_extension": ".py",
   "mimetype": "text/x-python",
   "name": "python",
   "nbconvert_exporter": "python",
   "pygments_lexer": "ipython3",
   "version": "3.7.3"
  }
 },
 "nbformat": 4,
 "nbformat_minor": 2
}
