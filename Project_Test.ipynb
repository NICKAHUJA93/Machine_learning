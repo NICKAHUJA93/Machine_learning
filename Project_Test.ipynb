{
 "cells": [
  {
   "cell_type": "code",
   "execution_count": null,
   "metadata": {},
   "outputs": [],
   "source": [
    "pip install opencv-python==3.4.2.16"
   ]
  },
  {
   "cell_type": "code",
   "execution_count": 1,
   "metadata": {},
   "outputs": [
    {
     "data": {
      "text/plain": [
       "'C:\\\\Users\\\\Dell'"
      ]
     },
     "execution_count": 1,
     "metadata": {},
     "output_type": "execute_result"
    }
   ],
   "source": [
    "pwd"
   ]
  },
  {
   "cell_type": "code",
   "execution_count": null,
   "metadata": {},
   "outputs": [],
   "source": []
  },
  {
   "cell_type": "code",
   "execution_count": 2,
   "metadata": {},
   "outputs": [
    {
     "name": "stdout",
     "output_type": "stream",
     "text": [
      "Drop table flag is dissable\n",
      "Drop table flag is dissable\n",
      "Drop table flag is dissable\n",
      "Drop table flag is dissable\n",
      "Drop table flag is dissable\n",
      "Drop table flag is dissable\n",
      "Drop table flag is dissable\n",
      "Drop table flag is dissable\n",
      "Drop table flag is dissable\n",
      "Drop table flag is dissable\n",
      "Drop table flag is dissable\n",
      "Drop table flag is dissable\n",
      "Drop table flag is dissable\n",
      "Drop table flag is dissable\n",
      "Drop table flag is dissable\n",
      "Drop table flag is dissable\n",
      "Drop table flag is dissable\n",
      "Drop table flag is dissable\n",
      "Drop table flag is dissable\n",
      "Drop table flag is dissable\n",
      "Drop table flag is dissable\n",
      "Drop table flag is dissable\n",
      "Drop table flag is dissable\n",
      "Drop table flag is dissable\n",
      "Drop table flag is dissable\n",
      "Drop table flag is dissable\n",
      "Drop table flag is dissable\n",
      "Drop table flag is dissable\n",
      "Drop table flag is dissable\n",
      "Drop table flag is dissable\n",
      "Drop table flag is dissable\n",
      "Drop table flag is dissable\n",
      "Drop table flag is dissable\n",
      "Drop table flag is dissable\n",
      "Drop table flag is dissable\n",
      "Drop table flag is dissable\n",
      "Drop table flag is dissable\n",
      "Drop table flag is dissable\n",
      "Drop table flag is dissable\n",
      "Drop table flag is dissable\n",
      "Drop table flag is dissable\n",
      "Drop table flag is dissable\n",
      "Drop table flag is dissable\n",
      "Drop table flag is dissable\n",
      "Drop table flag is dissable\n",
      "Drop table flag is dissable\n",
      "Drop table flag is dissable\n",
      "Drop table flag is dissable\n",
      "Drop table flag is dissable\n",
      "Drop table flag is dissable\n",
      "Drop table flag is dissable\n",
      "Drop table flag is dissable\n",
      "Drop table flag is dissable\n",
      "Drop table flag is dissable\n",
      "Drop table flag is dissable\n",
      "Drop table flag is dissable\n",
      "Drop table flag is dissable\n",
      "Drop table flag is dissable\n",
      "Drop table flag is dissable\n",
      "Drop table flag is dissable\n",
      "Drop table flag is dissable\n",
      "Drop table flag is dissable\n",
      "Drop table flag is dissable\n",
      "Drop table flag is dissable\n",
      "Drop table flag is dissable\n",
      "Drop table flag is dissable\n",
      "Drop table flag is dissable\n",
      "Drop table flag is dissable\n",
      "Drop table flag is dissable\n",
      "Drop table flag is dissable\n",
      "Drop table flag is dissable\n",
      "Drop table flag is dissable\n",
      "Drop table flag is dissable\n",
      "Drop table flag is dissable\n",
      "Drop table flag is dissable\n",
      "Drop table flag is dissable\n",
      "Drop table flag is dissable\n",
      "Drop table flag is dissable\n",
      "Drop table flag is dissable\n",
      "Drop table flag is dissable\n",
      "Drop table flag is dissable\n",
      "Drop table flag is dissable\n",
      "Drop table flag is dissable\n",
      "Drop table flag is dissable\n",
      "Drop table flag is dissable\n",
      "Drop table flag is dissable\n",
      "Drop table flag is dissable\n",
      "Drop table flag is dissable\n",
      "Drop table flag is dissable\n",
      "Drop table flag is dissable\n",
      "Drop table flag is dissable\n",
      "Drop table flag is dissable\n",
      "Drop table flag is dissable\n",
      "Drop table flag is dissable\n",
      "Drop table flag is dissable\n",
      "Drop table flag is dissable\n",
      "Drop table flag is dissable\n",
      "Drop table flag is dissable\n",
      "Drop table flag is dissable\n",
      "Drop table flag is dissable\n",
      "Drop table flag is dissable\n",
      "Drop table flag is dissable\n",
      "Drop table flag is dissable\n",
      "Drop table flag is dissable\n",
      "Drop table flag is dissable\n",
      "Drop table flag is dissable\n",
      "Drop table flag is dissable\n",
      "Drop table flag is dissable\n",
      "Drop table flag is dissable\n",
      "Drop table flag is dissable\n",
      "Drop table flag is dissable\n",
      "Drop table flag is dissable\n",
      "Drop table flag is dissable\n",
      "Drop table flag is dissable\n",
      "Drop table flag is dissable\n",
      "Drop table flag is dissable\n",
      "Drop table flag is dissable\n",
      "Drop table flag is dissable\n",
      "Drop table flag is dissable\n",
      "Drop table flag is dissable\n",
      "Drop table flag is dissable\n",
      "Drop table flag is dissable\n",
      "Drop table flag is dissable\n",
      "Drop table flag is dissable\n",
      "Drop table flag is dissable\n",
      "Drop table flag is dissable\n",
      "Drop table flag is dissable\n",
      "Drop table flag is dissable\n",
      "Drop table flag is dissable\n",
      "Drop table flag is dissable\n",
      "Drop table flag is dissable\n",
      "Drop table flag is dissable\n",
      "Drop table flag is dissable\n",
      "Drop table flag is dissable\n",
      "Drop table flag is dissable\n",
      "Drop table flag is dissable\n",
      "Drop table flag is dissable\n",
      "Drop table flag is dissable\n",
      "Drop table flag is dissable\n",
      "Drop table flag is dissable\n",
      "Drop table flag is dissable\n",
      "Drop table flag is dissable\n",
      "Drop table flag is dissable\n",
      "Drop table flag is dissable\n",
      "Drop table flag is dissable\n",
      "Drop table flag is dissable\n",
      "Drop table flag is dissable\n",
      "Drop table flag is dissable\n",
      "Drop table flag is dissable\n",
      "Drop table flag is dissable\n",
      "Drop table flag is dissable\n",
      "Drop table flag is dissable\n",
      "Drop table flag is dissable\n",
      "Drop table flag is dissable\n",
      "Drop table flag is dissable\n",
      "Drop table flag is dissable\n",
      "Drop table flag is dissable\n",
      "Drop table flag is dissable\n",
      "Drop table flag is dissable\n",
      "Drop table flag is dissable\n",
      "Drop table flag is dissable\n",
      "Drop table flag is dissable\n",
      "Drop table flag is dissable\n",
      "Drop table flag is dissable\n",
      "Drop table flag is dissable\n",
      "Drop table flag is dissable\n",
      "Drop table flag is dissable\n",
      "Drop table flag is dissable\n",
      "Drop table flag is dissable\n",
      "Drop table flag is dissable\n",
      "Drop table flag is dissable\n",
      "Drop table flag is dissable\n",
      "Drop table flag is dissable\n",
      "Drop table flag is dissable\n",
      "Drop table flag is dissable\n",
      "Drop table flag is dissable\n",
      "Drop table flag is dissable\n",
      "Drop table flag is dissable\n",
      "Drop table flag is dissable\n",
      "Drop table flag is dissable\n",
      "Drop table flag is dissable\n",
      "Drop table flag is dissable\n",
      "Drop table flag is dissable\n",
      "Drop table flag is dissable\n",
      "Drop table flag is dissable\n",
      "Drop table flag is dissable\n",
      "Drop table flag is dissable\n",
      "Drop table flag is dissable\n",
      "Drop table flag is dissable\n",
      "Drop table flag is dissable\n",
      "Drop table flag is dissable\n",
      "Drop table flag is dissable\n",
      "Drop table flag is dissable\n",
      "Drop table flag is dissable\n",
      "Drop table flag is dissable\n",
      "Drop table flag is dissable\n"
     ]
    },
    {
     "ename": "NameError",
     "evalue": "name 'con' is not defined",
     "output_type": "error",
     "traceback": [
      "\u001b[1;31m---------------------------------------------------------------------------\u001b[0m",
      "\u001b[1;31mNameError\u001b[0m                                 Traceback (most recent call last)",
      "\u001b[1;32m<ipython-input-2-568fd8a71c9e>\u001b[0m in \u001b[0;36m<module>\u001b[1;34m\u001b[0m\n\u001b[0;32m    121\u001b[0m \u001b[0mcap\u001b[0m\u001b[1;33m.\u001b[0m\u001b[0mrelease\u001b[0m\u001b[1;33m(\u001b[0m\u001b[1;33m)\u001b[0m\u001b[1;33m\u001b[0m\u001b[1;33m\u001b[0m\u001b[0m\n\u001b[0;32m    122\u001b[0m \u001b[0mcv2\u001b[0m\u001b[1;33m.\u001b[0m\u001b[0mdestroyAllWindows\u001b[0m\u001b[1;33m(\u001b[0m\u001b[1;33m)\u001b[0m\u001b[1;33m\u001b[0m\u001b[1;33m\u001b[0m\u001b[0m\n\u001b[1;32m--> 123\u001b[1;33m \u001b[0mfetch_data\u001b[0m\u001b[1;33m(\u001b[0m\u001b[1;33m)\u001b[0m\u001b[1;33m\u001b[0m\u001b[1;33m\u001b[0m\u001b[0m\n\u001b[0m",
      "\u001b[1;32m<ipython-input-2-568fd8a71c9e>\u001b[0m in \u001b[0;36mfetch_data\u001b[1;34m()\u001b[0m\n\u001b[0;32m     36\u001b[0m \u001b[1;32mdef\u001b[0m \u001b[0mfetch_data\u001b[0m\u001b[1;33m(\u001b[0m\u001b[1;33m)\u001b[0m\u001b[1;33m:\u001b[0m\u001b[1;33m\u001b[0m\u001b[1;33m\u001b[0m\u001b[0m\n\u001b[0;32m     37\u001b[0m     \u001b[0mquery\u001b[0m \u001b[1;33m=\u001b[0m \u001b[1;34m\"select * from Organization_database\"\u001b[0m\u001b[1;33m\u001b[0m\u001b[1;33m\u001b[0m\u001b[0m\n\u001b[1;32m---> 38\u001b[1;33m     \u001b[0mcur\u001b[0m \u001b[1;33m=\u001b[0m \u001b[0mcon\u001b[0m\u001b[1;33m.\u001b[0m\u001b[0mexecute\u001b[0m\u001b[1;33m(\u001b[0m\u001b[0mquery\u001b[0m\u001b[1;33m)\u001b[0m\u001b[1;33m\u001b[0m\u001b[1;33m\u001b[0m\u001b[0m\n\u001b[0m\u001b[0;32m     39\u001b[0m     \u001b[0mrows\u001b[0m \u001b[1;33m=\u001b[0m \u001b[0mcur\u001b[0m\u001b[1;33m.\u001b[0m\u001b[0mfetchall\u001b[0m\u001b[1;33m(\u001b[0m\u001b[1;33m)\u001b[0m\u001b[1;33m\u001b[0m\u001b[1;33m\u001b[0m\u001b[0m\n\u001b[0;32m     40\u001b[0m     \u001b[1;32mfor\u001b[0m \u001b[0mr\u001b[0m \u001b[1;32min\u001b[0m \u001b[0mrows\u001b[0m\u001b[1;33m:\u001b[0m\u001b[1;33m\u001b[0m\u001b[1;33m\u001b[0m\u001b[0m\n",
      "\u001b[1;31mNameError\u001b[0m: name 'con' is not defined"
     ]
    }
   ],
   "source": [
    "import numpy as np\n",
    "import cv2\n",
    "import sqlite3\n",
    "import os\n",
    "import speech_recognition as sr\n",
    "\n",
    "cap = cv2.VideoCapture(0)\n",
    "cap.set(3,640) # set Width\n",
    "cap.set(4,480) # set Height\n",
    "Create_database = 1\n",
    "Drop_table = 0\n",
    "display_string = \"Hello Press Escape Key to capture image and store it in a database\"\n",
    "database_list= [\"Nipun\",\"Shivam\",\"Jack\",\"Rohan\",\"Kiran\"]\n",
    "\n",
    "#create your own model for face recognization \n",
    "#multi threading and multi processing\n",
    "def train_database(filename,uid):\n",
    "    recognizer = cv2.createLBPHFaceRecognizer();\n",
    "    recognizer.train(filename,uid)\n",
    "    recognizer.save(\"trainingdata.yml\")\n",
    "\n",
    "def create_table():\n",
    "    query = \"create table if not exists Organization_database(id Integer PRIMARY KEY,name TEXT(32))\"\n",
    "    con.execute(query)\n",
    "    con.commit()\n",
    "\n",
    "def insert_data(uid,un):\n",
    "    query = \"insert into Organization_database values(%d,'%s')\"%(uid,un)\n",
    "    con.execute(query)\n",
    "    con.commit()\n",
    "\n",
    "def deleteData(deleteid):\n",
    "    query = \"DELETE FROM Organization_database WHERE id =%d\"% (deleteid)\n",
    "    con.execute(query)\n",
    "    con.commit()\n",
    "    \n",
    "def fetch_data():\n",
    "    query = \"select * from Organization_database\"\n",
    "    cur = con.execute(query)\n",
    "    rows = cur.fetchall()\n",
    "    for r in rows:\n",
    "        s1 =str(r[0])+\"\\t\"+r[1]\n",
    "        print(s1)\n",
    "\n",
    "def drop_table():\n",
    "    query = \"DROP TABLE Organization_database\"\n",
    "    con.execute(query)\n",
    "    con.commit()\n",
    "    \n",
    "#def voice_text():\n",
    "    #r = sr.Recognizer()\n",
    "    #with sr.Microphone() as source:\n",
    "    #print(\"Say something!\")\n",
    "    #audio = r.listen(source)\n",
    "    #try:\n",
    "        #print(\"You said: \" + r.recognize_google(audio))\n",
    "    #except sr.UnknownValueError:\n",
    "        #print(\"Google Speech Recognition could not understand audio\")\n",
    "    #except sr.RequestError as e:\n",
    "        #print(\"Could not request results from Google Speech Recognition service; {0}\".format(e))\n",
    "    \n",
    "face_cascade = cv2.CascadeClassifier('haarcascade_frontalface_default.xml') \n",
    "eye_cascade = cv2.CascadeClassifier('haarcascade_eye.xml')  \n",
    "\n",
    "while(True):\n",
    "    ret, frame = cap.read()\n",
    "    frame = cv2.flip(frame, 1) # Flip camera vertically\n",
    "    gray = cv2.cvtColor(frame, cv2.COLOR_BGR2GRAY)\n",
    "    faces = face_cascade.detectMultiScale(gyra,scaleFactor=2,minNeighbors=3,minSize=(20,20),flags=cv2.CASCADE_SCALE_IMAGE)\n",
    "    #cv2.putText(frame,display_string,(50,60),cv2.FONT_HERSHEY_COMPLEX,1,(250,120,150),2)\n",
    "    cv2.putText(frame,database_list[0],(30,60),cv2.FONT_HERSHEY_COMPLEX,1,(250,250,500),2)\n",
    "    for (x,y,w,h) in faces: \n",
    "        # To draw a rectangle in a face  \n",
    "        cv2.rectangle(frame,(x,y),(x+w,y+h),(255,255,0),2)  \n",
    "        roi_gray = gray[y:y+h, x:x+w] \n",
    "        roi_color = frame[y:y+h, x:x+w] \n",
    "        \n",
    "        # Detects eyes of different sizes in the input image \n",
    "        eyes = eye_cascade.detectMultiScale(roi_gray)  \n",
    "  \n",
    "        #To draw a rectangle in eyes \n",
    "        for (ex,ey,ew,eh) in eyes: \n",
    "            cv2.rectangle(roi_color,(ex,ey),(ex+ew,ey+eh),(0,127,255),2) \n",
    "\n",
    "    cv2.imshow('frame', frame)\n",
    "    cv2.imshow('gray', gray)\n",
    "    \n",
    "    if Drop_table == 1:\n",
    "        drop_table()\n",
    "        print(\"Drop table Successfully\")\n",
    "    else:\n",
    "        print(\"Drop table flag is dissable\")\n",
    "    k = cv2.waitKey(30) & 0xff\n",
    "    if k == 27: # press 'ESC' to quit\n",
    "        break\n",
    "    elif k == 32: # Press SPace to store the file and take input data base  \n",
    "        val = input(\"Enter the name of person: \") \n",
    "        print(val)\n",
    "        database_list.append(val)\n",
    "        print(\"List of the database\",database_list)\n",
    "        uid = int(input(\"Enter the UID of person\"))\n",
    "        print(uid)\n",
    "        ext = \".jpg\"\n",
    "        filename = val+ext\n",
    "        print(filename)\n",
    "        cv2.imwrite(filename, frame)\n",
    "        print(\"Capture and Saving of image is successfull\")\n",
    "        con = sqlite3.connect(\"Organization.db\")\n",
    "        if con!=None:\n",
    "            print(\"connected with database\",type(con))\n",
    "            if Create_database == 1:\n",
    "                create_table()\n",
    "                print(\"Table Created Successfully\")\n",
    "            else:\n",
    "                print(\"Table creation failed\")\n",
    "            insert_data(uid,filename)\n",
    "            train_database(uid,filename)\n",
    "        else:\n",
    "            print(\"Connection failed\")    \n",
    "        break\n",
    "        \n",
    "cap.release()\n",
    "cv2.destroyAllWindows()\n",
    "fetch_data()"
   ]
  },
  {
   "cell_type": "code",
   "execution_count": null,
   "metadata": {},
   "outputs": [],
   "source": []
  },
  {
   "cell_type": "code",
   "execution_count": null,
   "metadata": {},
   "outputs": [],
   "source": []
  },
  {
   "cell_type": "code",
   "execution_count": null,
   "metadata": {},
   "outputs": [],
   "source": []
  },
  {
   "cell_type": "code",
   "execution_count": null,
   "metadata": {},
   "outputs": [],
   "source": []
  },
  {
   "cell_type": "code",
   "execution_count": null,
   "metadata": {},
   "outputs": [],
   "source": []
  },
  {
   "cell_type": "code",
   "execution_count": null,
   "metadata": {},
   "outputs": [],
   "source": []
  },
  {
   "cell_type": "code",
   "execution_count": null,
   "metadata": {},
   "outputs": [],
   "source": []
  },
  {
   "cell_type": "code",
   "execution_count": null,
   "metadata": {},
   "outputs": [],
   "source": []
  },
  {
   "cell_type": "code",
   "execution_count": null,
   "metadata": {},
   "outputs": [],
   "source": []
  },
  {
   "cell_type": "code",
   "execution_count": null,
   "metadata": {},
   "outputs": [],
   "source": []
  },
  {
   "cell_type": "code",
   "execution_count": null,
   "metadata": {},
   "outputs": [],
   "source": []
  },
  {
   "cell_type": "code",
   "execution_count": null,
   "metadata": {},
   "outputs": [],
   "source": []
  },
  {
   "cell_type": "code",
   "execution_count": null,
   "metadata": {},
   "outputs": [],
   "source": []
  },
  {
   "cell_type": "code",
   "execution_count": null,
   "metadata": {},
   "outputs": [],
   "source": []
  },
  {
   "cell_type": "code",
   "execution_count": null,
   "metadata": {},
   "outputs": [],
   "source": []
  },
  {
   "cell_type": "code",
   "execution_count": null,
   "metadata": {},
   "outputs": [],
   "source": []
  },
  {
   "cell_type": "code",
   "execution_count": null,
   "metadata": {},
   "outputs": [],
   "source": []
  },
  {
   "cell_type": "code",
   "execution_count": null,
   "metadata": {},
   "outputs": [],
   "source": []
  },
  {
   "cell_type": "code",
   "execution_count": null,
   "metadata": {},
   "outputs": [],
   "source": []
  },
  {
   "cell_type": "code",
   "execution_count": null,
   "metadata": {},
   "outputs": [],
   "source": []
  },
  {
   "cell_type": "code",
   "execution_count": null,
   "metadata": {},
   "outputs": [],
   "source": []
  },
  {
   "cell_type": "code",
   "execution_count": null,
   "metadata": {},
   "outputs": [],
   "source": []
  },
  {
   "cell_type": "code",
   "execution_count": null,
   "metadata": {},
   "outputs": [],
   "source": []
  },
  {
   "cell_type": "code",
   "execution_count": null,
   "metadata": {},
   "outputs": [],
   "source": []
  },
  {
   "cell_type": "code",
   "execution_count": null,
   "metadata": {},
   "outputs": [],
   "source": []
  },
  {
   "cell_type": "code",
   "execution_count": null,
   "metadata": {},
   "outputs": [],
   "source": []
  },
  {
   "cell_type": "code",
   "execution_count": null,
   "metadata": {},
   "outputs": [],
   "source": []
  },
  {
   "cell_type": "code",
   "execution_count": null,
   "metadata": {},
   "outputs": [],
   "source": []
  },
  {
   "cell_type": "code",
   "execution_count": null,
   "metadata": {},
   "outputs": [],
   "source": []
  },
  {
   "cell_type": "code",
   "execution_count": null,
   "metadata": {},
   "outputs": [],
   "source": []
  },
  {
   "cell_type": "code",
   "execution_count": null,
   "metadata": {},
   "outputs": [],
   "source": []
  },
  {
   "cell_type": "code",
   "execution_count": null,
   "metadata": {},
   "outputs": [],
   "source": []
  },
  {
   "cell_type": "code",
   "execution_count": null,
   "metadata": {},
   "outputs": [],
   "source": []
  },
  {
   "cell_type": "code",
   "execution_count": null,
   "metadata": {},
   "outputs": [],
   "source": []
  },
  {
   "cell_type": "code",
   "execution_count": null,
   "metadata": {},
   "outputs": [],
   "source": []
  },
  {
   "cell_type": "code",
   "execution_count": 1,
   "metadata": {},
   "outputs": [
    {
     "name": "stdout",
     "output_type": "stream",
     "text": [
      "Collecting Tkinter\n",
      "Note: you may need to restart the kernel to use updated packages.\n"
     ]
    },
    {
     "name": "stderr",
     "output_type": "stream",
     "text": [
      "  ERROR: Could not find a version that satisfies the requirement Tkinter (from versions: none)\n",
      "ERROR: No matching distribution found for Tkinter\n"
     ]
    }
   ],
   "source": [
    "pip install Tkinter"
   ]
  },
  {
   "cell_type": "code",
   "execution_count": null,
   "metadata": {},
   "outputs": [],
   "source": []
  },
  {
   "cell_type": "code",
   "execution_count": null,
   "metadata": {},
   "outputs": [],
   "source": []
  },
  {
   "cell_type": "code",
   "execution_count": null,
   "metadata": {},
   "outputs": [],
   "source": []
  },
  {
   "cell_type": "code",
   "execution_count": null,
   "metadata": {},
   "outputs": [],
   "source": [
    "#Voice to text conversion Google API\n",
    "pip install SpeechRecognition"
   ]
  },
  {
   "cell_type": "code",
   "execution_count": null,
   "metadata": {},
   "outputs": [],
   "source": [
    "pip install PyAudio"
   ]
  },
  {
   "cell_type": "code",
   "execution_count": null,
   "metadata": {},
   "outputs": [],
   "source": []
  },
  {
   "cell_type": "code",
   "execution_count": null,
   "metadata": {},
   "outputs": [],
   "source": []
  },
  {
   "cell_type": "code",
   "execution_count": null,
   "metadata": {},
   "outputs": [],
   "source": []
  },
  {
   "cell_type": "code",
   "execution_count": null,
   "metadata": {},
   "outputs": [],
   "source": []
  },
  {
   "cell_type": "code",
   "execution_count": null,
   "metadata": {},
   "outputs": [],
   "source": []
  },
  {
   "cell_type": "code",
   "execution_count": null,
   "metadata": {},
   "outputs": [],
   "source": []
  },
  {
   "cell_type": "code",
   "execution_count": null,
   "metadata": {},
   "outputs": [],
   "source": []
  },
  {
   "cell_type": "code",
   "execution_count": null,
   "metadata": {},
   "outputs": [],
   "source": []
  },
  {
   "cell_type": "code",
   "execution_count": null,
   "metadata": {},
   "outputs": [],
   "source": []
  }
 ],
 "metadata": {
  "kernelspec": {
   "display_name": "Python 3",
   "language": "python",
   "name": "python3"
  },
  "language_info": {
   "codemirror_mode": {
    "name": "ipython",
    "version": 3
   },
   "file_extension": ".py",
   "mimetype": "text/x-python",
   "name": "python",
   "nbconvert_exporter": "python",
   "pygments_lexer": "ipython3",
   "version": "3.7.3"
  }
 },
 "nbformat": 4,
 "nbformat_minor": 2
}
