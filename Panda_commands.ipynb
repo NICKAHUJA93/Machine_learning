{
 "cells": [
  {
   "cell_type": "code",
   "execution_count": 6,
   "metadata": {},
   "outputs": [
    {
     "name": "stdout",
     "output_type": "stream",
     "text": [
      "     a    b  c\n",
      "0  1.0  1.0  1\n",
      "1  NaN  NaN  2\n",
      "2  2.0  NaN  3\n",
      "     a    b  c\n",
      "0  1.0  1.0  1\n",
      "     a    b  c\n",
      "0    1    1  1\n",
      "1  123  123  2\n",
      "2    2  123  3\n"
     ]
    }
   ],
   "source": [
    "import pandas as pd\n",
    "import numpy as np\n",
    "\n",
    "d={'a':[1,np.nan,2],'b':[1,np.nan,np.nan],'c':[1,2,3]}\n",
    "df=pd.DataFrame(d)\n",
    "print(df)\n",
    "q=df.dropna()\n",
    "print(q)\n",
    "q=df.fillna('123')\n",
    "print(q)\n",
    "\n",
    "values = {'a':0,'b':1,'c':2}\n",
    "q=df.fillna(values)\n",
    "\n",
    "q"
   ]
  },
  {
   "cell_type": "code",
   "execution_count": null,
   "metadata": {},
   "outputs": [],
   "source": []
  }
 ],
 "metadata": {
  "kernelspec": {
   "display_name": "Python 3",
   "language": "python",
   "name": "python3"
  },
  "language_info": {
   "codemirror_mode": {
    "name": "ipython",
    "version": 3
   },
   "file_extension": ".py",
   "mimetype": "text/x-python",
   "name": "python",
   "nbconvert_exporter": "python",
   "pygments_lexer": "ipython3",
   "version": "3.7.3"
  }
 },
 "nbformat": 4,
 "nbformat_minor": 2
}
